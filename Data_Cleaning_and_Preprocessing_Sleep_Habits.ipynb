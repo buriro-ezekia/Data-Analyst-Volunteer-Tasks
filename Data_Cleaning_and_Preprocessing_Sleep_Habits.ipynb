{
  "nbformat": 4,
  "nbformat_minor": 0,
  "metadata": {
    "colab": {
      "provenance": [],
      "mount_file_id": "1w6IuXeEQZ5Qa9u2n7eGte82FvfotxC3n",
      "authorship_tag": "ABX9TyNxXmyAPARzCvcxVwyu4+zY",
      "include_colab_link": true
    },
    "kernelspec": {
      "name": "python3",
      "display_name": "Python 3"
    },
    "language_info": {
      "name": "python"
    }
  },
  "cells": [
    {
      "cell_type": "markdown",
      "metadata": {
        "id": "view-in-github",
        "colab_type": "text"
      },
      "source": [
        "<a href=\"https://colab.research.google.com/github/buriro-ezekia/Data-Analyst-Volunteer-Tasks/blob/main/Data_Cleaning_and_Preprocessing_Sleep_Habits.ipynb\" target=\"_parent\"><img src=\"https://colab.research.google.com/assets/colab-badge.svg\" alt=\"Open In Colab\"/></a>"
      ]
    },
    {
      "source": [
        "# Import Necessary Libraries\n",
        "import warnings\n",
        "warnings.filterwarnings('ignore')\n",
        "import pandas as pd\n",
        "import numpy as np\n",
        "import matplotlib.pyplot as plt\n",
        "import seaborn as sns\n",
        "import plotly.express as px\n",
        "\n",
        "# Load dataset\n",
        "# The error is likely due to the encoding of the CSV file.\n",
        "# We'll try to read it using 'latin-1' encoding.\n",
        "# If this doesn't work, you may need to experiment with other encodings like 'cp1252', 'utf-16', etc.\n",
        "df = pd.read_csv('drive/MyDrive/Data Analysis with Python/Apple Search Ads Campaigns.csv', encoding='latin-1')\n",
        "\n",
        "print(df.head(10))"
      ],
      "cell_type": "code",
      "metadata": {
        "colab": {
          "base_uri": "https://localhost:8080/"
        },
        "id": "8elLuZAELR7m",
        "outputId": "ddf631a9-59d9-48f7-c9a6-cb74bdbcaadb"
      },
      "execution_count": 48,
      "outputs": [
        {
          "output_type": "stream",
          "name": "stdout",
          "text": [
            "    Campaign ID                                  Campaign Name Start Date  \\\n",
            "0  4.703112e+08                         0.54 - May 2022 - Arab  31-Aug-20   \n",
            "1  4.816894e+08                   0.54 - Tier 1 & 2 - May 2022  04-Oct-20   \n",
            "2  4.699278e+08                       0.54 - Tier 1 - May 2022  29-Aug-20   \n",
            "3  4.742696e+08                             1.00 - My Keywords  14-Sep-20   \n",
            "4  4.840063e+08  1.01 - US/OZ - May 2022 - Performing Keywords  12-Oct-20   \n",
            "5  4.870115e+08                          1.50 - May 2022 - USA  18-Oct-20   \n",
            "6  5.798608e+08          1.50 - USA - May 2022 - Apple Suggest  03-Jul-21   \n",
            "7  4.814068e+08                            Japan Oct 2020 0.19  04-Oct-20   \n",
            "8  1.454603e+09                  Sleep - Exploration Sept 2023  16-Sep-23   \n",
            "9  1.153490e+09                   Sleep Habits - Product pages  28-Sep-22   \n",
            "\n",
            "   Status                    App Name                  Ad Placement  \\\n",
            "0  PAUSED  Sleep Habits: Sleep Better      App Store Search Results   \n",
            "1  PAUSED  Sleep Habits: Sleep Better      App Store Search Results   \n",
            "2  PAUSED  Sleep Habits: Sleep Better      App Store Search Results   \n",
            "3  PAUSED  Sleep Habits: Sleep Better      App Store Search Results   \n",
            "4  PAUSED  Sleep Habits: Sleep Better      App Store Search Results   \n",
            "5  PAUSED  Sleep Habits: Sleep Better      App Store Search Results   \n",
            "6  PAUSED  Sleep Habits: Sleep Better      App Store Search Results   \n",
            "7  PAUSED  Sleep Habits: Sleep Better      App Store Search Results   \n",
            "8  PAUSED  Sleep Habits: Sleep Better      App Store Search Results   \n",
            "9  PAUSED  Sleep Habits: Sleep Better  Product PagesWhile Browsing   \n",
            "\n",
            "   Lifetime Budget  Daily Budget   Spend  Average cost per tap (CPT)  ...  \\\n",
            "0           5000.0         500.0  103.98                        0.05  ...   \n",
            "1          10000.0         300.0   20.10                        0.09  ...   \n",
            "2           1000.0         300.0  265.51                        0.09  ...   \n",
            "3           5000.0        1000.0  141.22                        0.08  ...   \n",
            "4          10000.0         300.0  195.65                        0.09  ...   \n",
            "5           6000.0         300.0  525.36                        0.73  ...   \n",
            "6          10000.0         500.0   11.74                        0.65  ...   \n",
            "7           1000.0        1000.0    5.17                        0.13  ...   \n",
            "8              NaN         500.0    2.94                        0.49  ...   \n",
            "9              NaN         100.0   27.32                        0.14  ...   \n",
            "\n",
            "   Average Cost per Thousand-Impressions (CPM)  Impressions  Taps  Installs  \\\n",
            "0                                         1.53        68146  1940       664   \n",
            "1                                         2.61         7686   229        42   \n",
            "2                                         1.80       147441  2830       646   \n",
            "3                                         2.56        55186  1776       444   \n",
            "4                                         1.81       108100  2139       472   \n",
            "5                                        14.70        35732   717       215   \n",
            "6                                         7.97         1473    18         3   \n",
            "7                                         2.08         2491    41        14   \n",
            "8                                         3.68          798     6         0   \n",
            "9                                         1.57        17412   191        16   \n",
            "\n",
            "   The tap-through rate (TTR)  Conversion Rate (CR)  LAT On Installs  \\\n",
            "0                        0.03                  0.34                7   \n",
            "1                        0.03                  0.18                1   \n",
            "2                        0.02                  0.23               85   \n",
            "3                        0.03                  0.25               67   \n",
            "4                        0.02                  0.22               35   \n",
            "5                        0.02                  0.30                2   \n",
            "6                        0.01                  0.17                0   \n",
            "7                        0.02                  0.34                0   \n",
            "8                        0.01                  0.00                0   \n",
            "9                        0.01                  0.08                0   \n",
            "\n",
            "   LAT Off Installs  New Downloads  Redownloads  \n",
            "0               337            658            6  \n",
            "1                 3             42            0  \n",
            "2               313            641            5  \n",
            "3               171            439            5  \n",
            "4               123            470            2  \n",
            "5                 5            214            1  \n",
            "6                 0              3            0  \n",
            "7                 1             14            0  \n",
            "8                 0              0            0  \n",
            "9                 0             16            0  \n",
            "\n",
            "[10 rows x 21 columns]\n"
          ]
        }
      ]
    },
    {
      "cell_type": "code",
      "source": [
        "# View Column names\n",
        "print(df.columns)"
      ],
      "metadata": {
        "colab": {
          "base_uri": "https://localhost:8080/"
        },
        "id": "CCu-OpojLqZe",
        "outputId": "5f3e48a6-dbae-45af-e636-b7dd1ce8ba28"
      },
      "execution_count": 49,
      "outputs": [
        {
          "output_type": "stream",
          "name": "stdout",
          "text": [
            "Index(['Campaign ID', 'Campaign Name', 'Start Date', 'Status', 'App Name',\n",
            "       'Ad Placement', 'Lifetime Budget', 'Daily Budget', 'Spend',\n",
            "       'Average cost per tap (CPT)', 'Average cost per acquisition (CPA)',\n",
            "       'Average Cost per Thousand-Impressions (CPM)', 'Impressions', 'Taps',\n",
            "       'Installs', 'The tap-through rate (TTR)', 'Conversion Rate (CR)',\n",
            "       'LAT On Installs', 'LAT Off Installs', 'New Downloads', 'Redownloads'],\n",
            "      dtype='object')\n"
          ]
        }
      ]
    },
    {
      "cell_type": "code",
      "source": [
        "# View information in the dataset\n",
        "print(df.info())"
      ],
      "metadata": {
        "colab": {
          "base_uri": "https://localhost:8080/"
        },
        "id": "Penbg3nPLzP_",
        "outputId": "9e97865f-6b47-4b0b-d078-f33bad8abae6"
      },
      "execution_count": 50,
      "outputs": [
        {
          "output_type": "stream",
          "name": "stdout",
          "text": [
            "<class 'pandas.core.frame.DataFrame'>\n",
            "RangeIndex: 14 entries, 0 to 13\n",
            "Data columns (total 21 columns):\n",
            " #   Column                                       Non-Null Count  Dtype  \n",
            "---  ------                                       --------------  -----  \n",
            " 0   Campaign ID                                  13 non-null     float64\n",
            " 1   Campaign Name                                13 non-null     object \n",
            " 2   Start Date                                   13 non-null     object \n",
            " 3   Status                                       13 non-null     object \n",
            " 4   App Name                                     13 non-null     object \n",
            " 5   Ad Placement                                 13 non-null     object \n",
            " 6   Lifetime Budget                              10 non-null     float64\n",
            " 7   Daily Budget                                 13 non-null     float64\n",
            " 8   Spend                                        14 non-null     float64\n",
            " 9   Average cost per tap (CPT)                   14 non-null     float64\n",
            " 10  Average cost per acquisition (CPA)           14 non-null     float64\n",
            " 11  Average Cost per Thousand-Impressions (CPM)  14 non-null     float64\n",
            " 12  Impressions                                  14 non-null     int64  \n",
            " 13  Taps                                         14 non-null     int64  \n",
            " 14  Installs                                     14 non-null     int64  \n",
            " 15  The tap-through rate (TTR)                   14 non-null     float64\n",
            " 16  Conversion Rate (CR)                         14 non-null     float64\n",
            " 17  LAT On Installs                              14 non-null     int64  \n",
            " 18  LAT Off Installs                             14 non-null     int64  \n",
            " 19  New Downloads                                14 non-null     int64  \n",
            " 20  Redownloads                                  14 non-null     int64  \n",
            "dtypes: float64(9), int64(7), object(5)\n",
            "memory usage: 2.4+ KB\n",
            "None\n"
          ]
        }
      ]
    },
    {
      "cell_type": "code",
      "source": [
        "# Check for missing values\n",
        "print(df.isnull().sum())"
      ],
      "metadata": {
        "colab": {
          "base_uri": "https://localhost:8080/"
        },
        "id": "_IwUdD67L_nR",
        "outputId": "b66fea42-01b3-4d80-b1f5-0642c46b5c7e"
      },
      "execution_count": 51,
      "outputs": [
        {
          "output_type": "stream",
          "name": "stdout",
          "text": [
            "Campaign ID                                    1\n",
            "Campaign Name                                  1\n",
            "Start Date                                     1\n",
            "Status                                         1\n",
            "App Name                                       1\n",
            "Ad Placement                                   1\n",
            "Lifetime Budget                                4\n",
            "Daily Budget                                   1\n",
            "Spend                                          0\n",
            "Average cost per tap (CPT)                     0\n",
            "Average cost per acquisition (CPA)             0\n",
            "Average Cost per Thousand-Impressions (CPM)    0\n",
            "Impressions                                    0\n",
            "Taps                                           0\n",
            "Installs                                       0\n",
            "The tap-through rate (TTR)                     0\n",
            "Conversion Rate (CR)                           0\n",
            "LAT On Installs                                0\n",
            "LAT Off Installs                               0\n",
            "New Downloads                                  0\n",
            "Redownloads                                    0\n",
            "dtype: int64\n"
          ]
        }
      ]
    },
    {
      "cell_type": "code",
      "source": [
        "# Check for missing values in specific columns\n",
        "critical_columns = ['Campaign ID', 'Campaign Name', 'Start Date', 'Status', 'App Name', 'Ad Placement', 'Lifetime Budget', 'Daily Budget']\n",
        "missing_values_critical = df[critical_columns].isnull().sum()\n",
        "\n",
        "print(\"Missing Values in Critical Columns:\\n\", missing_values_critical)\n",
        "\n",
        "# Handle missing values (example: imputation with median for numerical columns)\n",
        "for col in critical_columns:\n",
        "    if pd.api.types.is_numeric_dtype(df[col]):\n",
        "        df[col].fillna(df[col].median(), inplace=True)  # Impute with the median\n",
        "    # Improved handling for other data types:\n",
        "    elif pd.api.types.is_string_dtype(df[col]):\n",
        "        # Use the most frequent value (mode) to fill missing values in string columns\n",
        "        df[col].fillna(df[col].mode()[0], inplace=True)\n",
        "    # Handle datetime objects\n",
        "    elif pd.api.types.is_datetime64_any_dtype(df[col]):\n",
        "        df[col].fillna(method='ffill', inplace=True)  # Forward fill for datetime columns\n",
        "    else:\n",
        "        # For other data types (if any), use forward fill\n",
        "        df[col].fillna(method='ffill', inplace=True)\n",
        "\n",
        "\n",
        "#Re-check for missing values after imputation\n",
        "missing_values_after_imputation = df[critical_columns].isnull().sum()\n",
        "print(\"\\nMissing Values After Imputation:\\n\", missing_values_after_imputation)\n"
      ],
      "metadata": {
        "colab": {
          "base_uri": "https://localhost:8080/"
        },
        "id": "QRbSUpQb2xZy",
        "outputId": "963cc7e0-ddc5-46ec-f4a5-c2586d4d4230"
      },
      "execution_count": 52,
      "outputs": [
        {
          "output_type": "stream",
          "name": "stdout",
          "text": [
            "Missing Values in Critical Columns:\n",
            " Campaign ID        1\n",
            "Campaign Name      1\n",
            "Start Date         1\n",
            "Status             1\n",
            "App Name           1\n",
            "Ad Placement       1\n",
            "Lifetime Budget    4\n",
            "Daily Budget       1\n",
            "dtype: int64\n",
            "\n",
            "Missing Values After Imputation:\n",
            " Campaign ID        0\n",
            "Campaign Name      0\n",
            "Start Date         0\n",
            "Status             0\n",
            "App Name           0\n",
            "Ad Placement       0\n",
            "Lifetime Budget    0\n",
            "Daily Budget       0\n",
            "dtype: int64\n"
          ]
        }
      ]
    },
    {
      "cell_type": "code",
      "source": [
        "# # Check for missing values after imputation now\n",
        "\n",
        "# print(df.isnull().sum())"
      ],
      "metadata": {
        "id": "YK72JcQ_NV-O"
      },
      "execution_count": 53,
      "outputs": []
    },
    {
      "cell_type": "code",
      "source": [
        "# Data Type Validation\n",
        "# Ensure that the Start Date column is in a proper date format.\n",
        "try:\n",
        "  df['Start Date'] = pd.to_datetime(df['Start Date'], errors='raise')\n",
        "  print(\"Start Date column successfully converted to datetime.\")\n",
        "except ValueError as e:\n",
        "  print(f\"Error converting 'Start Date' to datetime: {e}\")\n",
        "  # Handle the error appropriately, e.g., investigate the problematic rows,\n",
        "  # try different date formats, or drop the rows if they're insignificant.\n",
        "  # Example:\n",
        "  # problematic_rows = df[pd.to_datetime(df['Start Date'], errors='coerce').isnull()]\n",
        "  # print(\"Problematic rows:\\n\", problematic_rows)\n",
        "  # df = df.dropna(subset=['Start Date'])\n",
        "\n",
        "\n",
        "# Numeric Columns: Verify that columns such as Lifetime Budget, Daily Budget, Spend,\n",
        "# Average cost per tap (CPT), Average cost per acquisition (CPA),\n",
        "# Average Cost per Thousand-Impressions (CPM), Impressions, Taps, Installs,\n",
        "# The tap-through rate (TTR), Conversion Rate (CR), LAT On Installs, LAT Off Installs,\n",
        "# New Downloads, and Redownloads are of appropriate numeric data types.\n",
        "numeric_cols = ['Lifetime Budget', 'Daily Budget', 'Spend', 'Average cost per tap (CPT)',\n",
        "                'Average cost per acquisition (CPA)', 'Average Cost per Thousand-Impressions (CPM)',\n",
        "                'Impressions', 'Taps', 'Installs', 'Tap-through rate (TTR)', 'Conversion Rate (CR)',\n",
        "                'LAT On Installs', 'LAT Off Installs', 'New Downloads', 'Redownloads']\n",
        "\n",
        "for col in numeric_cols:\n",
        "  if col in df.columns:  # Check if the column exists\n",
        "    try:\n",
        "        # Attempt to convert the column to numeric, coercing errors to NaN\n",
        "        df[col] = pd.to_numeric(df[col], errors='coerce')\n",
        "        print(f\"Column '{col}' successfully converted to numeric.\")\n",
        "    except Exception as e:\n",
        "        print(f\"Error converting '{col}' to numeric: {e}\")\n",
        "  else:\n",
        "    print(f\"Warning: Column '{col}' not found in DataFrame.\")\n",
        "\n",
        "# Now check for missing values again after numeric conversions\n",
        "print(df.isnull().sum())\n"
      ],
      "metadata": {
        "colab": {
          "base_uri": "https://localhost:8080/"
        },
        "id": "qopbImmUzAsb",
        "outputId": "4e5ebe41-2d19-42d4-f49d-5c3fc7cd1098"
      },
      "execution_count": 54,
      "outputs": [
        {
          "output_type": "stream",
          "name": "stdout",
          "text": [
            "Start Date column successfully converted to datetime.\n",
            "Column 'Lifetime Budget' successfully converted to numeric.\n",
            "Column 'Daily Budget' successfully converted to numeric.\n",
            "Column 'Spend' successfully converted to numeric.\n",
            "Column 'Average cost per tap (CPT)' successfully converted to numeric.\n",
            "Column 'Average cost per acquisition (CPA)' successfully converted to numeric.\n",
            "Column 'Average Cost per Thousand-Impressions (CPM)' successfully converted to numeric.\n",
            "Column 'Impressions' successfully converted to numeric.\n",
            "Column 'Taps' successfully converted to numeric.\n",
            "Column 'Installs' successfully converted to numeric.\n",
            "Warning: Column 'Tap-through rate (TTR)' not found in DataFrame.\n",
            "Column 'Conversion Rate (CR)' successfully converted to numeric.\n",
            "Column 'LAT On Installs' successfully converted to numeric.\n",
            "Column 'LAT Off Installs' successfully converted to numeric.\n",
            "Column 'New Downloads' successfully converted to numeric.\n",
            "Column 'Redownloads' successfully converted to numeric.\n",
            "Campaign ID                                    0\n",
            "Campaign Name                                  0\n",
            "Start Date                                     0\n",
            "Status                                         0\n",
            "App Name                                       0\n",
            "Ad Placement                                   0\n",
            "Lifetime Budget                                0\n",
            "Daily Budget                                   0\n",
            "Spend                                          0\n",
            "Average cost per tap (CPT)                     0\n",
            "Average cost per acquisition (CPA)             0\n",
            "Average Cost per Thousand-Impressions (CPM)    0\n",
            "Impressions                                    0\n",
            "Taps                                           0\n",
            "Installs                                       0\n",
            "The tap-through rate (TTR)                     0\n",
            "Conversion Rate (CR)                           0\n",
            "LAT On Installs                                0\n",
            "LAT Off Installs                               0\n",
            "New Downloads                                  0\n",
            "Redownloads                                    0\n",
            "dtype: int64\n"
          ]
        }
      ]
    },
    {
      "cell_type": "code",
      "source": [
        "# Campaign ID Consistency Check\n",
        "duplicate_campaign_ids = df[df.duplicated(subset=['Campaign ID'], keep=False)]\n",
        "if not duplicate_campaign_ids.empty:\n",
        "    print(\"Duplicate Campaign IDs found:\")\n",
        "    print(duplicate_campaign_ids[['Campaign ID', 'Campaign Name']])\n",
        "\n",
        "# Check for mismatches between Campaign ID and Campaign Name (if applicable)\n",
        "# ... (add your logic to check for mismatches)\n",
        "\n",
        "\n",
        "# Date Consistency Check\n",
        "# Check for invalid or out-of-range Start Dates.  We already converted to datetime.\n",
        "# Check for dates outside of a reasonable range (you'll need to define what's \"reasonable\").\n",
        "\n",
        "min_valid_date = pd.to_datetime('2020-01-01')  # Example minimum valid date\n",
        "max_valid_date = pd.to_datetime('2024-12-31')  # Example maximum valid date\n",
        "\n",
        "invalid_dates = df[(df['Start Date'] < min_valid_date) | (df['Start Date'] > max_valid_date)]\n",
        "\n",
        "if not invalid_dates.empty:\n",
        "  print(\"Invalid or Out-of-range Start Dates:\")\n",
        "  print(invalid_dates[['Campaign ID', 'Campaign Name', 'Start Date']])\n",
        "\n"
      ],
      "metadata": {
        "colab": {
          "base_uri": "https://localhost:8080/"
        },
        "id": "MTb7Guw44uNK",
        "outputId": "adf8cb3c-c4af-4344-d7a6-2cdec7a2b0dd"
      },
      "execution_count": 55,
      "outputs": [
        {
          "output_type": "stream",
          "name": "stdout",
          "text": [
            "Duplicate Campaign IDs found:\n",
            "    Campaign ID                 Campaign Name\n",
            "1   481689442.0  0.54 - Tier 1 & 2 - May 2022\n",
            "13  481689442.0                Top Tier Sleep\n"
          ]
        }
      ]
    },
    {
      "cell_type": "code",
      "source": [
        "# # Campaign ID Consistency Check (Improved)\n",
        "# duplicate_campaign_ids = df[df.duplicated(subset=['Campaign ID'], keep=False)]\n",
        "\n",
        "# if not duplicate_campaign_ids.empty:\n",
        "#     print(\"Duplicate Campaign IDs found:\")\n",
        "#     print(duplicate_campaign_ids[['Campaign ID', 'Campaign Name']])\n",
        "\n",
        "#     # Group by 'Campaign ID' and get a list of corresponding 'Campaign Name' values\n",
        "#     campaign_id_names = duplicate_campaign_ids.groupby('Campaign ID')['Campaign Name'].apply(list).reset_index()\n",
        "\n",
        "#     # Print the Campaign ID and the list of associated Campaign Names\n",
        "#     for index, row in campaign_id_names.iterrows():\n",
        "#         campaign_id = row['Campaign ID']\n",
        "#         names = row['Campaign Name']\n",
        "#         print(f\"\\nCampaign ID: {campaign_id}\")\n",
        "#         for name in names:\n",
        "#             print(f\"  - {name}\")\n"
      ],
      "metadata": {
        "id": "dwbGiwRC53T5"
      },
      "execution_count": 56,
      "outputs": []
    },
    {
      "cell_type": "code",
      "source": [
        "\n",
        "# Campaign ID Consistency Check (Improved)\n",
        "duplicate_campaign_ids = df[df.duplicated(subset=['Campaign ID'], keep=False)]\n",
        "\n",
        "if not duplicate_campaign_ids.empty:\n",
        "    print(\"Duplicate Campaign IDs found:\")\n",
        "    print(duplicate_campaign_ids[['Campaign ID', 'Campaign Name']])\n",
        "\n",
        "    # Group by 'Campaign ID' and get a list of corresponding 'Campaign Name' values\n",
        "    campaign_id_names = duplicate_campaign_ids.groupby('Campaign ID')['Campaign Name'].apply(list).reset_index()\n",
        "\n",
        "    # Print the Campaign ID and the list of associated Campaign Names,\n",
        "    # and flag potential issues based on name similarity.\n",
        "    for index, row in campaign_id_names.iterrows():\n",
        "        campaign_id = row['Campaign ID']\n",
        "        names = row['Campaign Name']\n",
        "        print(f\"\\nCampaign ID: {campaign_id}\")\n",
        "\n",
        "        # Check for similar names (case-insensitive)\n",
        "        for i in range(len(names)):\n",
        "          for j in range(i + 1, len(names)):\n",
        "            if names[i].lower() == names[j].lower():\n",
        "                print(f\"  - {names[i]} (Duplicate name)\")\n",
        "            elif names[i].lower() in names[j].lower() or names[j].lower() in names[i].lower():\n",
        "                print(f\"  - {names[i]} (Similar name to {names[j]})\")\n",
        "            else:\n",
        "              print(f\"  - {names[i]}\")\n"
      ],
      "metadata": {
        "colab": {
          "base_uri": "https://localhost:8080/"
        },
        "id": "Oa4ycL757Nlp",
        "outputId": "a40e65b3-8ad3-4c96-9a2e-585686b4536d"
      },
      "execution_count": 57,
      "outputs": [
        {
          "output_type": "stream",
          "name": "stdout",
          "text": [
            "Duplicate Campaign IDs found:\n",
            "    Campaign ID                 Campaign Name\n",
            "1   481689442.0  0.54 - Tier 1 & 2 - May 2022\n",
            "13  481689442.0                Top Tier Sleep\n",
            "\n",
            "Campaign ID: 481689442.0\n",
            "  - 0.54 - Tier 1 & 2 - May 2022\n"
          ]
        }
      ]
    },
    {
      "cell_type": "code",
      "source": [
        "\n",
        "# Range and Value Checks\n",
        "def check_budget_spend(df):\n",
        "    \"\"\"\n",
        "    Checks Lifetime Budget, Daily Budget, and Spend for non-negative values and reasonable limits.\n",
        "    \"\"\"\n",
        "    for col in ['Lifetime Budget', 'Daily Budget', 'Spend']:\n",
        "        if col in df.columns:\n",
        "            # Check for negative values\n",
        "            negative_values = df[df[col] < 0]\n",
        "            if not negative_values.empty:\n",
        "                print(f\"\\n Warning: Negative values found in '{col}' column:\\n{negative_values[[col]]}\")\n",
        "                # Clip negative values to 0\n",
        "                df[col] = df[col].clip(lower=0)\n",
        "                print(f\"Negative values in '{col}' clipped to 0.\\n\")\n",
        "\n",
        "            # Check for excessively high values\n",
        "            high_values = df[df[col] > 1000000]\n",
        "            if not high_values.empty:\n",
        "                print(f\"\\n Warning: Excessively high values found in '{col}' column:\\n{high_values[[col]]}\")\n",
        "                # Clip high values to 1,000,000\n",
        "                df[col] = df[col].clip(upper=1000000)\n",
        "                print(f\"High values in '{col}' clipped to 1,000,000.\\n\")\n",
        "\n",
        "def check_performance_metrics(df):\n",
        "    \"\"\"\n",
        "    Checks performance metrics for validity.\n",
        "    \"\"\"\n",
        "    metrics = {\n",
        "        'Average cost per tap (CPT)': (0, 100),\n",
        "        'Average cost per acquisition (CPA)': (0, 500),\n",
        "        'Average Cost per Thousand-Impressions (CPM)': (0, 50),\n",
        "        'Tap-through rate (TTR)': (0, 100),\n",
        "        'Conversion Rate (CR)': (0, 100)\n",
        "    }\n",
        "\n",
        "    for col, (min_val, max_val) in metrics.items():\n",
        "        if col in df.columns:\n",
        "            # Check for out-of-range values\n",
        "            out_of_range = df[(df[col] < min_val) | (df[col] > max_val)]\n",
        "            if not out_of_range.empty:\n",
        "                print(f\"\\n Warning: Values outside the expected range found for '{col}':\\n{out_of_range[[col]]}\")\n",
        "                # Clip out-of-range values\n",
        "                df[col] = df[col].clip(lower=min_val, upper=max_val)\n",
        "                print(f\" Out-of-range values in '{col}' clipped to range ({min_val}, {max_val}).\\n\")\n",
        "\n",
        "# Call the check functions\n",
        "check_budget_spend(df)\n",
        "check_performance_metrics(df)\n",
        "\n",
        "# Display updated DataFrame\n",
        "print(\"\\n Updated DataFrame:\\n\", df.head())\n"
      ],
      "metadata": {
        "colab": {
          "base_uri": "https://localhost:8080/"
        },
        "id": "iXLaI-yW_Ova",
        "outputId": "31fd180e-cc2d-45a9-b310-b47c2dbb2997"
      },
      "execution_count": 58,
      "outputs": [
        {
          "output_type": "stream",
          "name": "stdout",
          "text": [
            "\n",
            " Updated DataFrame:\n",
            "    Campaign ID                                  Campaign Name Start Date  \\\n",
            "0  470311161.0                         0.54 - May 2022 - Arab 2020-08-31   \n",
            "1  481689442.0                   0.54 - Tier 1 & 2 - May 2022 2020-10-04   \n",
            "2  469927825.0                       0.54 - Tier 1 - May 2022 2020-08-29   \n",
            "3  474269632.0                             1.00 - My Keywords 2020-09-14   \n",
            "4  484006307.0  1.01 - US/OZ - May 2022 - Performing Keywords 2020-10-12   \n",
            "\n",
            "   Status                    App Name              Ad Placement  \\\n",
            "0  PAUSED  Sleep Habits: Sleep Better  App Store Search Results   \n",
            "1  PAUSED  Sleep Habits: Sleep Better  App Store Search Results   \n",
            "2  PAUSED  Sleep Habits: Sleep Better  App Store Search Results   \n",
            "3  PAUSED  Sleep Habits: Sleep Better  App Store Search Results   \n",
            "4  PAUSED  Sleep Habits: Sleep Better  App Store Search Results   \n",
            "\n",
            "   Lifetime Budget  Daily Budget   Spend  Average cost per tap (CPT)  ...  \\\n",
            "0           5000.0         500.0  103.98                        0.05  ...   \n",
            "1          10000.0         300.0   20.10                        0.09  ...   \n",
            "2           1000.0         300.0  265.51                        0.09  ...   \n",
            "3           5000.0        1000.0  141.22                        0.08  ...   \n",
            "4          10000.0         300.0  195.65                        0.09  ...   \n",
            "\n",
            "   Average Cost per Thousand-Impressions (CPM)  Impressions  Taps  Installs  \\\n",
            "0                                         1.53        68146  1940       664   \n",
            "1                                         2.61         7686   229        42   \n",
            "2                                         1.80       147441  2830       646   \n",
            "3                                         2.56        55186  1776       444   \n",
            "4                                         1.81       108100  2139       472   \n",
            "\n",
            "   The tap-through rate (TTR)  Conversion Rate (CR)  LAT On Installs  \\\n",
            "0                        0.03                  0.34                7   \n",
            "1                        0.03                  0.18                1   \n",
            "2                        0.02                  0.23               85   \n",
            "3                        0.03                  0.25               67   \n",
            "4                        0.02                  0.22               35   \n",
            "\n",
            "   LAT Off Installs  New Downloads  Redownloads  \n",
            "0               337            658            6  \n",
            "1                 3             42            0  \n",
            "2               313            641            5  \n",
            "3               171            439            5  \n",
            "4               123            470            2  \n",
            "\n",
            "[5 rows x 21 columns]\n"
          ]
        }
      ]
    },
    {
      "cell_type": "code",
      "source": [
        "# Logical Consistency\n",
        "# Impressions, Taps, and Installs: Verify logical relationships such as Taps should not exceed Impressions, and Installs should not exceed Taps.\n",
        "# LAT On/Off Installs and Downloads: Ensure that LAT On Installs and LAT Off Installs sum up correctly to the total number of Installs.\n",
        "\n",
        "def check_logical_consistency(df):\n",
        "    \"\"\"\n",
        "    Checks for logical inconsistencies in the data, such as:\n",
        "    - Taps should not exceed Impressions.\n",
        "    - Installs should not exceed Taps.\n",
        "    - LAT On Installs + LAT Off Installs == Installs\n",
        "    \"\"\"\n",
        "\n",
        "    # 1. Taps vs. Impressions\n",
        "    invalid_taps = df[df['Taps'] > df['Impressions']]\n",
        "    if not invalid_taps.empty:\n",
        "        print(\"Warning: Taps exceed Impressions in some rows:\")\n",
        "        print(invalid_taps[['Campaign ID', 'Impressions', 'Taps']])\n",
        "        # Handle the inconsistencies (e.g., clip Taps to Impressions)\n",
        "        df['Taps'] = np.minimum(df['Taps'], df['Impressions'])\n",
        "        print(\"Taps clipped to Impressions.\")\n",
        "\n",
        "\n",
        "    # 2. Installs vs. Taps\n",
        "    invalid_installs = df[df['Installs'] > df['Taps']]\n",
        "    if not invalid_installs.empty:\n",
        "        print(\"\\nWarning: Installs exceed Taps in some rows:\")\n",
        "        print(invalid_installs[['Campaign ID', 'Taps', 'Installs']])\n",
        "        # Handle the inconsistencies (e.g., clip Installs to Taps)\n",
        "        df['Installs'] = np.minimum(df['Installs'], df['Taps'])\n",
        "        print(\"Installs clipped to Taps.\")\n",
        "\n",
        "    # 3. LAT On/Off Installs vs. Total Installs\n",
        "    df['LAT_Combined_Installs'] = df['LAT On Installs'] + df['LAT Off Installs']\n",
        "    install_mismatch = df[df['Installs'] != df['LAT_Combined_Installs']]\n",
        "    if not install_mismatch.empty:\n",
        "        print(\"\\nWarning: LAT On/Off Installs do not sum up to Total Installs in some rows:\")\n",
        "        print(install_mismatch[['Campaign ID', 'Installs', 'LAT On Installs', 'LAT Off Installs', 'LAT_Combined_Installs']])\n",
        "\n",
        "        # Option 1: Adjust LAT On/Off to match Total Installs (if you trust the 'Installs' column)\n",
        "        # df['LAT On Installs'] = df.apply(lambda x: x['Installs'] - x['LAT Off Installs'], axis=1)\n",
        "\n",
        "        # Option 2: Adjust Total Installs to match LAT On/Off (if you trust LAT On/Off)\n",
        "        df['Installs'] = df['LAT_Combined_Installs']\n",
        "\n",
        "        print(\"Installs adjusted to match the sum of LAT On/Off Installs.\")\n",
        "\n",
        "    # Drop the temporary 'LAT_Combined_Installs' column\n",
        "    df = df.drop(columns=['LAT_Combined_Installs'], errors='ignore')  #errors='ignore' handles case if column doesn't exist\n",
        "\n",
        "# Call the function\n",
        "check_logical_consistency(df)\n"
      ],
      "metadata": {
        "colab": {
          "base_uri": "https://localhost:8080/"
        },
        "id": "MjTdLW5_AxaI",
        "outputId": "a1499592-293d-4566-e517-d65d17f1910b"
      },
      "execution_count": 59,
      "outputs": [
        {
          "output_type": "stream",
          "name": "stdout",
          "text": [
            "\n",
            "Warning: LAT On/Off Installs do not sum up to Total Installs in some rows:\n",
            "     Campaign ID  Installs  LAT On Installs  LAT Off Installs  \\\n",
            "0   4.703112e+08       664                7               337   \n",
            "1   4.816894e+08        42                1                 3   \n",
            "2   4.699278e+08       646               85               313   \n",
            "3   4.742696e+08       444               67               171   \n",
            "4   4.840063e+08       472               35               123   \n",
            "5   4.870115e+08       215                2                 5   \n",
            "6   5.798608e+08         3                0                 0   \n",
            "7   4.814068e+08        14                0                 1   \n",
            "9   1.153490e+09        16                0                 0   \n",
            "11  4.698193e+08       503               78               290   \n",
            "12  4.706172e+08       118               14                87   \n",
            "13  4.816894e+08      3137              289              1330   \n",
            "\n",
            "    LAT_Combined_Installs  \n",
            "0                     344  \n",
            "1                       4  \n",
            "2                     398  \n",
            "3                     238  \n",
            "4                     158  \n",
            "5                       7  \n",
            "6                       0  \n",
            "7                       1  \n",
            "9                       0  \n",
            "11                    368  \n",
            "12                    101  \n",
            "13                   1619  \n",
            "Installs adjusted to match the sum of LAT On/Off Installs.\n"
          ]
        }
      ]
    },
    {
      "cell_type": "code",
      "source": [
        "# # Print the result now\n",
        "# print(df.head())"
      ],
      "metadata": {
        "id": "uy4eZafmC70R"
      },
      "execution_count": 60,
      "outputs": []
    },
    {
      "cell_type": "code",
      "source": [
        "# Check for duplicates in the dataset\n",
        "print(df.duplicated().sum())"
      ],
      "metadata": {
        "colab": {
          "base_uri": "https://localhost:8080/"
        },
        "id": "Av01UWMYNgV2",
        "outputId": "e5ecd771-7ccc-4686-ff4f-fa00c7dd3cf3"
      },
      "execution_count": 61,
      "outputs": [
        {
          "output_type": "stream",
          "name": "stdout",
          "text": [
            "0\n"
          ]
        }
      ]
    },
    {
      "cell_type": "code",
      "source": [
        "# Save the cleaned DataFrame to a new CSV file in the same directory\n",
        "df.to_csv('drive/MyDrive/Data Analysis with Python/cleaned_apple_search_ads.csv', index=False)\n"
      ],
      "metadata": {
        "id": "QqSGkkdBED24"
      },
      "execution_count": 62,
      "outputs": []
    }
  ]
}