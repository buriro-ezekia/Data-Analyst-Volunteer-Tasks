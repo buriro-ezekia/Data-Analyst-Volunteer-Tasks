{
  "cells": [
    {
      "cell_type": "markdown",
      "metadata": {
        "id": "view-in-github"
      },
      "source": [
        "<a href=\"https://colab.research.google.com/github/buriro-ezekia/Data-Science-Project-Portfolios/blob/main/Phase_2_Campaign_Optimization_and_Strategy_Development.ipynb\" target=\"_parent\"><img src=\"https://colab.research.google.com/assets/colab-badge.svg\" alt=\"Open In Colab\"/></a>"
      ]
    },
    {
      "cell_type": "code",
      "source": [
        "from google.colab import drive\n",
        "drive.mount('/content/drive')"
      ],
      "metadata": {
        "colab": {
          "base_uri": "https://localhost:8080/"
        },
        "id": "tbTT2FUplWv1",
        "outputId": "35387769-bcba-48d3-ff46-b9e0827ff979"
      },
      "execution_count": 8,
      "outputs": [
        {
          "output_type": "stream",
          "name": "stdout",
          "text": [
            "Drive already mounted at /content/drive; to attempt to forcibly remount, call drive.mount(\"/content/drive\", force_remount=True).\n"
          ]
        }
      ]
    },
    {
      "cell_type": "code",
      "execution_count": 9,
      "metadata": {
        "colab": {
          "base_uri": "https://localhost:8080/"
        },
        "id": "nnYT0JMspmRm",
        "outputId": "246cb8ae-f96d-4018-e0a2-ef9382e9cec0"
      },
      "outputs": [
        {
          "output_type": "stream",
          "name": "stdout",
          "text": [
            "   campaign_id                                  campaign_name  start_date  \\\n",
            "0  470311161.0                         0.54 - May 2022 - Arab  2020-08-31   \n",
            "1  481689442.0                   0.54 - Tier 1 & 2 - May 2022  2020-10-04   \n",
            "2  469927825.0                       0.54 - Tier 1 - May 2022  2020-08-29   \n",
            "3  474269632.0                             1.00 - My Keywords  2020-09-14   \n",
            "4  484006307.0  1.01 - US/OZ - May 2022 - Performing Keywords  2020-10-12   \n",
            "\n",
            "   status                    app_name              ad_placement  \\\n",
            "0  PAUSED  Sleep Habits: Sleep Better  App Store Search Results   \n",
            "1  PAUSED  Sleep Habits: Sleep Better  App Store Search Results   \n",
            "2  PAUSED  Sleep Habits: Sleep Better  App Store Search Results   \n",
            "3  PAUSED  Sleep Habits: Sleep Better  App Store Search Results   \n",
            "4  PAUSED  Sleep Habits: Sleep Better  App Store Search Results   \n",
            "\n",
            "   lifetime_budget  daily_budget   spend  average_cpt  ...  impressions  taps  \\\n",
            "0           5000.0         500.0  103.98         0.05  ...        68146  1940   \n",
            "1          10000.0         300.0   20.10         0.09  ...         7686   229   \n",
            "2           1000.0         300.0  265.51         0.09  ...       147441  2830   \n",
            "3           5000.0        1000.0  141.22         0.08  ...        55186  1776   \n",
            "4          10000.0         300.0  195.65         0.09  ...       108100  2139   \n",
            "\n",
            "   installs   ttr    cr  lat_on_installs  lat_off_installs  new_downloads  \\\n",
            "0       344  0.03  0.34                7               337            658   \n",
            "1         4  0.03  0.18                1                 3             42   \n",
            "2       398  0.02  0.23               85               313            641   \n",
            "3       238  0.03  0.25               67               171            439   \n",
            "4       158  0.02  0.22               35               123            470   \n",
            "\n",
            "   re_downloads  lat_combined_installs  \n",
            "0             6                    344  \n",
            "1             0                      4  \n",
            "2             5                    398  \n",
            "3             5                    238  \n",
            "4             2                    158  \n",
            "\n",
            "[5 rows x 22 columns]\n"
          ]
        }
      ],
      "source": [
        "# Load and Explore the Data\n",
        "\n",
        "import pandas as pd\n",
        "\n",
        "# Load the dataset\n",
        "df = pd.read_csv('drive/MyDrive/Datasets/formatted_campaign_data.csv')\n",
        "\n",
        "# Display the first few rows to understand the structure\n",
        "print(df.head())\n"
      ]
    },
    {
      "cell_type": "markdown",
      "source": [
        "# Bidding Strategy Development"
      ],
      "metadata": {
        "id": "wnVAv5zOriQ0"
      }
    },
    {
      "cell_type": "code",
      "source": [
        "# Calculate ROAS (Return on Ad Spend)\n",
        "df['roas'] = df['new_downloads'] / df['spend']\n",
        "\n",
        "# Identify high-performing and underperforming keywords\n",
        "high_performing_keywords = df[df['roas'] > df['roas'].median()]\n",
        "underperforming_keywords = df[df['roas'] <= df['roas'].median()]\n",
        "\n",
        "# Analyze location-based performance metrics\n",
        "location_performance = df.groupby('ad_placement').agg({\n",
        "    'spend': 'sum',\n",
        "    'new_downloads': 'sum',\n",
        "    'roas': 'mean'\n",
        "}).reset_index()\n",
        "\n",
        "print(\"High Performing Keywords:\")\n",
        "print(high_performing_keywords[['campaign_name', 'spend', 'roas']])\n",
        "\n",
        "print(\"Underperforming Keywords:\")\n",
        "print(underperforming_keywords[['campaign_name', 'spend', 'roas']])\n",
        "\n",
        "print(\"Location-Based Performance Metrics:\")\n",
        "print(location_performance)"
      ],
      "metadata": {
        "colab": {
          "base_uri": "https://localhost:8080/"
        },
        "id": "VVUwJv3mrmvM",
        "outputId": "a89f4aa6-0b50-44af-9214-4883b4363061"
      },
      "execution_count": 54,
      "outputs": [
        {
          "output_type": "stream",
          "name": "stdout",
          "text": [
            "High Performing Keywords:\n",
            "                                    campaign_name   spend      roas\n",
            "0                          0.54 - May 2022 - Arab  103.98  6.328140\n",
            "2                        0.54 - Tier 1 - May 2022  265.51  2.414222\n",
            "3                              1.00 - My Keywords  141.22  3.108625\n",
            "4   1.01 - US/OZ - May 2022 - Performing Keywords  195.65  2.402249\n",
            "7                             Japan Oct 2020 0.19    5.17  2.707930\n",
            "11                         Sleep Habits WW Launch  158.95  3.139352\n",
            "Underperforming Keywords:\n",
            "                            campaign_name    spend      roas\n",
            "1            0.54 - Tier 1 & 2 - May 2022    20.10  2.089552\n",
            "5                   1.50 - May 2022 - USA   525.36  0.407340\n",
            "6   1.50 - USA - May 2022 - Apple Suggest    11.74  0.255537\n",
            "8           Sleep - Exploration Sept 2023     2.94  0.000000\n",
            "9            Sleep Habits - Product pages    27.32  0.585652\n",
            "12                         Top Tier Sleep    65.83  1.777305\n",
            "13                         Top Tier Sleep  1523.76  2.042973\n",
            "Location-Based Performance Metrics:\n",
            "                   ad_placement    spend  new_downloads      roas\n",
            "0      App Store Search Results  3020.21           6210  2.222769\n",
            "1  Product PagesWhile Browsing    27.32             16  0.585652\n",
            "2                     Today Tab     0.00              0       NaN\n"
          ]
        }
      ]
    },
    {
      "cell_type": "code",
      "source": [
        "# # Calculate ROAS (Return on Ad Spend) to 4 decimal places\n",
        "# df['roas'] = (df['new_downloads'] / df['spend']).round(4)\n",
        "\n",
        "# # Identify high-performing and underperforming keywords\n",
        "# high_performing_keywords = df[df['roas'] > df['roas'].median()]\n",
        "# underperforming_keywords = df[df['roas'] <= df['roas'].median()]\n",
        "\n",
        "# # Analyze location-based performance metrics\n",
        "# location_performance = df.groupby('ad_placement').agg({\n",
        "#     'spend': 'sum',\n",
        "#     'new_downloads': 'sum',\n",
        "#     'roas': 'mean'\n",
        "# }).reset_index()\n",
        "\n",
        "# # Round ROAS in location-based performance to 4 decimal places\n",
        "# location_performance['roas'] = location_performance['roas'].round(4)\n",
        "\n",
        "# print(\"High Performing Keywords:\")\n",
        "# print(high_performing_keywords[['campaign_name', 'spend', 'roas']])\n",
        "\n",
        "# print(\"Underperforming Keywords:\")\n",
        "# print(underperforming_keywords[['campaign_name', 'spend', 'roas']])\n",
        "\n",
        "# print(\"Location-Based Performance Metrics:\")\n",
        "# print(location_performance)\n"
      ],
      "metadata": {
        "id": "jTxNRs9VybXu"
      },
      "execution_count": 15,
      "outputs": []
    },
    {
      "cell_type": "code",
      "source": [
        "# Recommendations for high-performing keywords\n",
        "high_performing_keywords.loc[:, 'recommended_bid_increase'] = high_performing_keywords['daily_budget'] * 1.2  # Increase by 20%\n",
        "\n",
        "# Recommendations for underperforming keywords\n",
        "underperforming_keywords.loc[:, 'recommended_bid_adjustment'] = underperforming_keywords['daily_budget'] * 0.8  # Decrease by 20%\n",
        "\n",
        "# Analyze location-based performance metrics\n",
        "location_performance = df.groupby('ad_placement').agg({\n",
        "    'spend': 'sum',\n",
        "    'new_downloads': 'sum',\n",
        "    'roas': 'mean'\n",
        "}).reset_index()\n",
        "\n",
        "location_performance['recommended_bid_adjustment'] = location_performance['roas'].apply(\n",
        "    lambda x: 1.2 if x > location_performance['roas'].median() else 0.8\n",
        ")\n",
        "\n",
        "print(\"High Performing Keywords:\")\n",
        "print(high_performing_keywords[['campaign_name', 'daily_budget', 'recommended_bid_increase']])\n",
        "\n",
        "print(\"Underperforming Keywords:\")\n",
        "print(underperforming_keywords[['campaign_name', 'daily_budget', 'recommended_bid_adjustment']])\n",
        "\n",
        "print(\"Location-Based Performance Metrics:\")\n",
        "print(location_performance[['ad_placement', 'roas', 'recommended_bid_adjustment']])"
      ],
      "metadata": {
        "colab": {
          "base_uri": "https://localhost:8080/"
        },
        "id": "VFBjDhSjt31N",
        "outputId": "67bacb6c-a84b-495f-ace9-6c3fb6ed0cbb"
      },
      "execution_count": 12,
      "outputs": [
        {
          "output_type": "stream",
          "name": "stdout",
          "text": [
            "High Performing Keywords:\n",
            "                                    campaign_name  daily_budget  \\\n",
            "0                          0.54 - May 2022 - Arab         500.0   \n",
            "2                        0.54 - Tier 1 - May 2022         300.0   \n",
            "3                              1.00 - My Keywords        1000.0   \n",
            "4   1.01 - US/OZ - May 2022 - Performing Keywords         300.0   \n",
            "7                             Japan Oct 2020 0.19        1000.0   \n",
            "11                         Sleep Habits WW Launch         500.0   \n",
            "\n",
            "    recommended_bid_increase  \n",
            "0                      600.0  \n",
            "2                      360.0  \n",
            "3                     1200.0  \n",
            "4                      360.0  \n",
            "7                     1200.0  \n",
            "11                     600.0  \n",
            "Underperforming Keywords:\n",
            "                            campaign_name  daily_budget  \\\n",
            "1            0.54 - Tier 1 & 2 - May 2022         300.0   \n",
            "5                   1.50 - May 2022 - USA         300.0   \n",
            "6   1.50 - USA - May 2022 - Apple Suggest         500.0   \n",
            "8           Sleep - Exploration Sept 2023         500.0   \n",
            "9            Sleep Habits - Product pages         100.0   \n",
            "12                         Top Tier Sleep         500.0   \n",
            "13                         Top Tier Sleep         500.0   \n",
            "\n",
            "    recommended_bid_adjustment  \n",
            "1                        240.0  \n",
            "5                        240.0  \n",
            "6                        400.0  \n",
            "8                        400.0  \n",
            "9                         80.0  \n",
            "12                       400.0  \n",
            "13                       400.0  \n",
            "Location-Based Performance Metrics:\n",
            "                   ad_placement      roas  recommended_bid_adjustment\n",
            "0      App Store Search Results  2.222769                         1.2\n",
            "1  Product PagesWhile Browsing  0.585652                         0.8\n",
            "2                     Today Tab       NaN                         0.8\n"
          ]
        }
      ]
    },
    {
      "cell_type": "markdown",
      "source": [
        "# Optimised Bidding Strategy Proposal\n",
        "\n",
        "## Objective\n",
        "To maximise Return on Ad Spend (ROAS) by optimising bidding strategies for different keywords and user segments.\n",
        "\n",
        "## Analysis Summary\n",
        "- High-performing keywords were identified based on ROAS.\n",
        "- Underperforming keywords were identified based on ROAS.\n",
        "- Location-based performance metrics were analysed.\n",
        "\n",
        "\n",
        "## Implementation Plan\n",
        "1. **Update Bids for High-Performing Keywords**\n",
        "   - Increase daily budgets for identified high-performing keywords by 20%.\n",
        "2. **Adjust Bids for Underperforming Keywords**\n",
        "   - Decrease daily budgets for identified underperforming keywords by 20%.\n",
        "3. **Apply Location-Based Bidding Adjustments**\n",
        "   - Adjust bids based on location performance metrics.\n",
        "4. **Monitor and Review**\n",
        "   - Continuously monitor campaign performance and adjust bids as necessary.\n",
        "   - Review performance metrics regularly to ensure optimal ROAS.\n"
      ],
      "metadata": {
        "id": "PkE6wrZvunC9"
      }
    },
    {
      "cell_type": "markdown",
      "source": [
        "# Campaign Structure Recommendations\n",
        "\n",
        "To analyze the current campaign structure and suggest improvements based on Exploratory Data Analysis (EDA), we will follow a structured approach. This involves creating separate ad groups for different product categories or themes and refining audience targeting within ad groups."
      ],
      "metadata": {
        "id": "HZ69AJxK33Kl"
      }
    },
    {
      "cell_type": "code",
      "source": [
        "# Check the distribution of product categories (assuming 'campaign_name' includes product category information)\n",
        "df['product_category'] = df['campaign_name'].apply(lambda x: x.split()[0])  # Example to extract category\n",
        "\n",
        "import warnings\n",
        "warnings.filterwarnings(\"ignore\")\n",
        "import pandas as pd\n",
        "import matplotlib.pyplot as plt\n",
        "import seaborn as sns\n",
        "\n",
        "# Plot the distribution of product categories\n",
        "plt.figure(figsize=(10, 6))\n",
        "sns.countplot(data=df, x='product_category', order=df['product_category'].value_counts().index)\n",
        "plt.title('Distribution of Product Categories')\n",
        "plt.xticks(rotation=45)\n",
        "plt.show()\n",
        "\n",
        "# Check the distribution of audience segments (assuming 'ad_placement' includes audience segment information)\n",
        "plt.figure(figsize=(10, 6))\n",
        "sns.countplot(data=df, x='ad_placement', order=df['ad_placement'].value_counts().index)\n",
        "plt.title('Distribution of Audience Segments')\n",
        "plt.xticks(rotation=45)\n",
        "plt.show()"
      ],
      "metadata": {
        "colab": {
          "base_uri": "https://localhost:8080/",
          "height": 1000
        },
        "id": "78rokyQV4kNH",
        "outputId": "12a846ba-1503-4bbf-faf0-67529a278717"
      },
      "execution_count": 32,
      "outputs": [
        {
          "output_type": "display_data",
          "data": {
            "text/plain": [
              "<Figure size 1000x600 with 1 Axes>"
            ],
            "image/png": "[encoded data removed]"
          },
          "metadata": {}
        },
        {
          "output_type": "display_data",
          "data": {
            "text/plain": [
              "<Figure size 1000x600 with 1 Axes>"
            ],
            "image/png": "[encoded data removed]"
          },
          "metadata": {}
        }
      ]
    },
    {
      "cell_type": "markdown",
      "source": [
        "# Campaign Structure Recommendations\n",
        "\n",
        "## Objective\n",
        "To improve the effectiveness of future campaigns by creating a more strategic campaign structure.\n",
        "\n",
        "## Analysis Summary\n",
        "- **Product Categories**: The current campaigns include various product categories, which can be better organized into separate ad groups.\n",
        "- **Audience Segments**: Different audience segments can be targeted more effectively by refining ad placements within ad groups.\n",
        "\n",
        "## Recommendations\n",
        "\n",
        "### 1. Create Separate Ad Groups for Different Product Categories\n",
        "Organize campaigns into separate ad groups based on product categories. This allows for more targeted messaging and budget allocation.\n",
        "\n",
        "### 2. Refine Audience Targeting Within Ad Groups\n",
        "Within each ad group, refine audience targeting to ensure that ads are shown to the most relevant audience segments.\n",
        "\n",
        "### 3. Implement Location-Based Bidding Adjustments\n",
        "Adjust bids based on the performance of different locations to maximise return on ad spend (ROAS).\n",
        "\n",
        "## Implementation Plan\n",
        "1. **Organise Campaigns**\n",
        "   - Create separate ad groups for each product category.\n",
        "   - Assign existing campaigns to the appropriate ad groups.\n",
        "\n",
        "2. **Refine Audience Targeting**\n",
        "   - Within each ad group, define specific audience segments.\n",
        "   - Adjust targeting parameters to focus on the most relevant segments.\n",
        "\n",
        "3. **Adjust Bids Based on Location**\n",
        "   - Analyse location-based performance metrics.\n",
        "   - Adjust bids for high-performing locations to maximise ROAS.\n",
        "\n",
        "4. **Monitor and Optimise**\n",
        "   - Continuously monitor campaign performance.\n",
        "   - Make adjustments as needed to improve overall effectiveness.\n",
        "\n",
        "## Conclusion\n",
        "By implementing these recommendations, we can create a more strategic campaign structure that allows for targeted messaging, better budget allocation, and improved ROAS."
      ],
      "metadata": {
        "id": "Ue3r5i6_7_yg"
      }
    },
    {
      "cell_type": "code",
      "source": [
        "# import warnings\n",
        "# warnings.filterwarnings(\"ignore\")\n",
        "# import pandas as pd\n",
        "# import matplotlib.pyplot as plt\n",
        "# import seaborn as sns\n",
        "\n",
        "# # Extract product category from 'campaign_name'\n",
        "# df['product_category'] = df['campaign_name'].apply(lambda x: x.split()[0])  # Example to extract category\n",
        "\n",
        "# # Create subplots\n",
        "# fig, axes = plt.subplots(1, 2, figsize=(16, 8), sharey=True)\n",
        "\n",
        "# # Plot distribution of product categories\n",
        "# sns.countplot(data=df, x='product_category', order=df['product_category'].value_counts().index, ax=axes[0])\n",
        "# axes[0].set_title('Distribution of Product Categories')\n",
        "# axes[0].set_xticklabels(axes[0].get_xticklabels(), rotation=45)\n",
        "\n",
        "# # Plot distribution of audience segments\n",
        "# sns.countplot(data=df, x='ad_placement', order=df['ad_placement'].value_counts().index, ax=axes[1])\n",
        "# axes[1].set_title('Distribution of Audience Segments')\n",
        "# axes[1].set_xticklabels(axes[1].get_xticklabels(), rotation=45)\n",
        "\n",
        "# # Adjust spacing and show plot\n",
        "# plt.tight_layout()\n",
        "# plt.show()\n"
      ],
      "metadata": {
        "id": "xTYIiHlO6UlB"
      },
      "execution_count": 31,
      "outputs": []
    },
    {
      "cell_type": "markdown",
      "metadata": {
        "id": "E0P4MQ6TzHSF"
      },
      "source": [
        "# A/B Testing Framework for Apple Search Ads\n",
        "\n",
        "## Objective\n",
        "To optimise ad performance by testing different ad creatives and targeting options. This framework aims to identify the most effective ad copy, visuals, and audience segments to maximise return on ad spend (ROAS) and overall campaign success.\n",
        "\n",
        "## Test Design\n",
        "\n",
        "### 1. Define Hypotheses\n",
        "Formulate specific hypotheses for each A/B test. For example:\n",
        "- Hypothesis 1: Ad copy with a strong call-to-action (CTA) will result in higher conversion rates.\n",
        "- Hypothesis 2: Visuals featuring product usage will perform better than generic product images.\n",
        "- Hypothesis 3: Targeting tech-savvy users will yield a higher ROAS than a general audience.\n",
        "\n",
        "### 2. Create Variations\n",
        "Develop different variations of ad creatives and targeting options:\n",
        "- **Ad Copy Variations**\n",
        "  - Version A: \"Download Now and Save\"\n",
        "  - Version B: \"Get Started with Our Free Trial\"\n",
        "- **Visual Variations**\n",
        "  - Version A: Image of the product\n",
        "  - Version B: Image of the product being used\n",
        "- **Audience Segments**\n",
        "  - Segment A: General audience\n",
        "  - Segment B: Tech-savvy users\n",
        "\n",
        "### 3. Set Up Control and Test Groups\n",
        "For each test, set up a control group (existing ad creative and targeting) and one or more test groups (new variations).\n",
        "\n",
        "### 4. Randomisation\n",
        "Ensure that users are randomly assigned to control and test groups to avoid bias.\n",
        "\n",
        "## Implementation\n",
        "\n",
        "### 1. Set Up Campaigns in Apple Search Ads\n",
        "Create separate campaigns or ad groups for each variation;\n",
        "- Campaign 1: Control Group\n",
        "- Campaign 2: Test Group A\n",
        "- Campaign 3: Test Group B\n",
        "\n",
        "### 2. Configure Targeting\n",
        "Set up targeting options for each campaign or ad group based on the audience segments defined in the test design.\n",
        "\n",
        "### 3. Allocate Budget\n",
        "Distribute the budget evenly across control and test groups to ensure fair comparison.\n",
        "\n",
        "### 4. Monitor Performance\n",
        "Track key performance indicators (KPIs) such as impressions, clicks, conversions, and ROAS for each variation.\n",
        "\n",
        "## Data Collection and Analysis\n",
        "\n",
        "### 1. Collect Data\n",
        "Gather data from Apple Search Ads for each campaign or ad group;\n",
        "- Impressions\n",
        "- Clicks\n",
        "- Conversions\n",
        "- Spend\n",
        "- ROAS\n",
        "\n",
        "### 2. Analyze Results\n",
        "Compare the performance of control and test groups using statistical analysis to determine the significance of the results;\n",
        "- Calculate conversion rates, click-through rates (CTR), and ROAS for each variation.\n",
        "- Use A/B testing tools or statistical methods (e.g., t-tests, chi-square tests) to assess the significance of the differences.\n",
        "\n",
        "### 3. Draw Conclusions\n",
        "Identify the best-performing variations based on the analysis. Determine whether the hypotheses are supported or rejected.\n",
        "\n",
        "## Optimisation\n",
        "\n",
        "### 1. Implement Winning Variations\n",
        "Integrate the best-performing ad creatives and targeting options into the main campaign.\n",
        "\n",
        "### 2. Iterate and Test Further\n",
        "Continue testing new variations to further optimise ad performance.\n",
        "\n",
        "## Documentation\n",
        "\n",
        "### 1. Record Test Details\n",
        "Document the details of each A/B test, including:\n",
        "- Hypotheses\n",
        "- Variations\n",
        "- Test setup\n",
        "- Results\n",
        "- Conclusions\n",
        "\n",
        "### 2. Create a Testing Schedule\n",
        "Develop a schedule for regular A/B testing to ensure continuous optimisation.\n",
        "\n",
        "### 3. Maintain a Knowledge Base\n",
        "Keep a knowledge base of past tests and findings to inform future campaigns.\n",
        "\n",
        "## Conclusion\n",
        "By following this A/B testing framework, we can systematically test and optimise ad creatives and targeting options within Apple Search Ads. This approach will help maximise ROAS and improve overall campaign performance.\n"
      ]
    },
    {
      "cell_type": "code",
      "source": [
        "# print(df.head())"
      ],
      "metadata": {
        "id": "trwHzY2SMq6F"
      },
      "execution_count": 46,
      "outputs": []
    },
    {
      "cell_type": "code",
      "source": [
        "# Check unique values in the 'status' column\n",
        "unique_status = df['status'].unique()\n",
        "print(\"Unique values in the 'status' column:\", unique_status)\n"
      ],
      "metadata": {
        "colab": {
          "base_uri": "https://localhost:8080/"
        },
        "id": "4uogcmjCN24U",
        "outputId": "17b2b3ad-efac-475c-97d4-2f0bf3a879f2"
      },
      "execution_count": 47,
      "outputs": [
        {
          "output_type": "stream",
          "name": "stdout",
          "text": [
            "Unique values in the 'status' column: ['PAUSED']\n"
          ]
        }
      ]
    },
    {
      "cell_type": "code",
      "execution_count": 48,
      "metadata": {
        "colab": {
          "base_uri": "https://localhost:8080/"
        },
        "id": "WJ1JFibd17AW",
        "outputId": "706ab23e-ded8-4c2f-f6d6-82898f0922ca"
      },
      "outputs": [
        {
          "output_type": "stream",
          "name": "stdout",
          "text": [
            "Control Group Metrics:\n",
            "    impressions   taps  installs    spend      roas\n",
            "0         68146   1940       344   103.98  6.328140\n",
            "1          7686    229         4    20.10  2.089552\n",
            "2        147441   2830       398   265.51  2.414222\n",
            "3         55186   1776       238   141.22  3.108625\n",
            "4        108100   2139       158   195.65  2.402249\n",
            "5         35732    717         7   525.36  0.407340\n",
            "6          1473     18         0    11.74  0.255537\n",
            "7          2491     41         1     5.17  2.707930\n",
            "8           798      6         0     2.94  0.000000\n",
            "9         17412    191         0    27.32  0.585652\n",
            "10            0      0         0     0.00       NaN\n",
            "11        96714   2729       368   158.95  3.139352\n",
            "12        17567    620       101    65.83  1.777305\n",
            "13       558746  13236      1619  1523.76  2.042973\n",
            "\n",
            "Test Group Metrics:\n",
            "Empty DataFrame\n",
            "Columns: [impressions, taps, installs, spend, roas]\n",
            "Index: []\n"
          ]
        }
      ],
      "source": [
        "from scipy import stats\n",
        "\n",
        "# Calculate key metrics\n",
        "df['ttr'] = df['taps'] / df['impressions']\n",
        "df['cr'] = df['installs'] / df['taps']\n",
        "df['roas'] = df['new_downloads'] / df['spend']\n",
        "\n",
        "# Separate control and test groups\n",
        "control_group = df[df['status'] == 'PAUSED']\n",
        "test_group = df[df['status'] != 'PAUSED']\n",
        "\n",
        "\n",
        "# Print calculated metrics\n",
        "print(\"Control Group Metrics:\")\n",
        "print(control_group[['impressions', 'taps', 'installs', 'spend', 'roas']])\n",
        "\n",
        "print(\"\\nTest Group Metrics:\")\n",
        "print(test_group[['impressions', 'taps', 'installs', 'spend', 'roas']])\n"
      ]
    },
    {
      "cell_type": "markdown",
      "source": [
        "# Summary of Control Group Metrics\n",
        "- The control group has seen varied performance, with the number of impressions ranging from as low as $0$ to as high as $558,746$.\n",
        "- Taps also show variability, with some campaigns generating a significant number of taps (up to $13,236$) and others much fewer.\n",
        "- Installs similarly range widely, with some metrics recording zero installs.\n",
        "- Spend varies from $0$ to $1,523.76$.\n",
        "- ROAS ranges widely, from $0$ to $6.33$, indicating different levels of success across campaigns.\n",
        "\n",
        "**Test Group Metrics**\n",
        "\n",
        "The test group currently has no recorded metrics. This could be due to several reasons;\n",
        "\n",
        "1. The test group campaigns are newly set up and have not yet gathered data.\n",
        "2. There might be an issue with data tracking or reporting for the test group.\n",
        "3. The test group campaigns might not have been activated."
      ],
      "metadata": {
        "id": "FhZOuPe5PyQ2"
      }
    },
    {
      "cell_type": "code",
      "source": [
        "# Calculate mean and standard deviation for the control group metrics\n",
        "control_group['ctr'] = control_group['taps'] / control_group['impressions']\n",
        "control_group['cr'] = control_group['installs'] / control_group['taps']\n",
        "\n",
        "# Calculate summary statistics\n",
        "summary_stats = control_group[['ctr', 'cr', 'roas']].describe().round(4)\n",
        "\n",
        "# Display the results\n",
        "print(\"Control Group Summary Statistics:\")\n",
        "print(summary_stats)\n"
      ],
      "metadata": {
        "colab": {
          "base_uri": "https://localhost:8080/"
        },
        "id": "5uHfpfbBVNV5",
        "outputId": "f0c23189-d9d5-4776-d06d-9bfb8e4e2d54"
      },
      "execution_count": 52,
      "outputs": [
        {
          "output_type": "stream",
          "name": "stdout",
          "text": [
            "Control Group Summary Statistics:\n",
            "           ctr       cr     roas\n",
            "count  13.0000  13.0000  13.0000\n",
            "mean    0.0218   0.0767   2.0968\n",
            "std     0.0087   0.0700   1.6736\n",
            "min     0.0075   0.0000   0.0000\n",
            "25%     0.0165   0.0098   0.5857\n",
            "50%     0.0201   0.0739   2.0896\n",
            "75%     0.0285   0.1348   2.7079\n",
            "max     0.0353   0.1773   6.3281\n"
          ]
        }
      ]
    },
    {
      "cell_type": "markdown",
      "source": [
        "**Summary Insights**\n",
        "\n",
        "- The CTR values are relatively low but consistent, with most data points clustered between 0.75% and 3.53%.\n",
        "- The Conversion Rate has more variability, with some campaigns showing very low conversion (0%) and others performing much better (up to 17.73%).\n",
        "- The ROAS values show considerable variability, with some campaigns performing poorly (ROAS = 0) and others yielding much higher returns (up to 6.33). This high variation in ROAS might indicate that some campaigns are significantly outperforming others."
      ],
      "metadata": {
        "id": "YsexkbSUWvr3"
      }
    },
    {
      "cell_type": "code",
      "execution_count": 49,
      "metadata": {
        "id": "2GVs_gpc3aIC"
      },
      "outputs": [],
      "source": [
        "# # Perform t-tests\n",
        "# ctr_ttest = stats.ttest_ind(control_group['ctr'], test_group['ctr'])\n",
        "# conversion_rate_ttest = stats.ttest_ind(control_group['conversion_rate'], test_group['conversion_rate'])\n",
        "# roas_ttest = stats.ttest_ind(control_group['roas'], test_group['roas'])\n",
        "\n",
        "# # Print t-test results\n",
        "# print(\"\\nT-Test Results:\")\n",
        "# print(f\"CTR: t-statistic = {ctr_ttest.statistic}, p-value = {ctr_ttest.pvalue}\")\n",
        "# print(f\"Conversion Rate: t-statistic = {conversion_rate_ttest.statistic}, p-value = {conversion_rate_ttest.pvalue}\")\n",
        "# print(f\"ROAS: t-statistic = {roas_ttest.statistic}, p-value = {roas_ttest.pvalue}\")\n",
        "\n"
      ]
    },
    {
      "cell_type": "code",
      "execution_count": 50,
      "metadata": {
        "id": "luzGsUEg4Mz9"
      },
      "outputs": [],
      "source": [
        "# # Perform chi-square test for independence on categorical data if applicable\n",
        "# # Example: If we had categorical data such as device type\n",
        "# contingency_table = pd.crosstab(df['group'], df['device_type'])\n",
        "# chi2, p, dof, ex = stats.chi2_contingency(contingency_table)\n",
        "\n",
        "# # Print chi-square test results\n",
        "# print(\"\\nChi-Square Test Results:\")\n",
        "# print(f\"Chi-Square: statistic = {chi2}, p-value = {p}\")"
      ]
    }
  ],
  "metadata": {
    "colab": {
      "provenance": []
    },
    "kernelspec": {
      "display_name": "Python 3",
      "name": "python3"
    },
    "language_info": {
      "name": "python"
    }
  },
  "nbformat": 4,
  "nbformat_minor": 0
}